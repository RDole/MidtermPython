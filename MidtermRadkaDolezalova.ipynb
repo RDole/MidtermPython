{
 "cells": [
  {
   "cell_type": "markdown",
   "metadata": {},
   "source": [
    "# Midterm\n",
    "Books\n",
    "\n",
    "Funkce v Markdown modu jsou nefunkcni kody. "
   ]
  },
  {
   "cell_type": "code",
   "execution_count": 6,
   "metadata": {},
   "outputs": [],
   "source": [
    "import requests\n",
    "from bs4 import BeautifulSoup\n",
    "import math\n",
    "import tqdm\n",
    "import json\n",
    "import pandas as pd\n",
    "import datetime\n",
    "import time\n",
    "\n",
    "import requests\n",
    "from bs4 import BeautifulSoup\n",
    "import pandas as pd\n",
    "import time\n",
    "from IPython.core.debugger import Tracer"
   ]
  },
  {
   "cell_type": "markdown",
   "metadata": {},
   "source": [
    "Najdu prvni ol"
   ]
  },
  {
   "cell_type": "markdown",
   "metadata": {},
   "source": [
    "def getSoup(link):\n",
    "    r = requests.get(link)\n",
    "    r.encoding = 'UTF-8'\n",
    "    return BeautifulSoup(r.text,'lxml')"
   ]
  },
  {
   "cell_type": "markdown",
   "metadata": {},
   "source": [
    "def getAllLinks(link):\n",
    "    soup = getSoup(link)\n",
    "    tds = soup.findAll('ol')\n",
    "    return [td.find('li').find('a') for td in tds]\n",
    "\n",
    "links = getAllLinks('https://en.wikipedia.org/wiki/20th_Century%27s_Greatest_Hits:_100_English-Language_Books_of_Fiction')\n",
    "links"
   ]
  },
  {
   "cell_type": "markdown",
   "metadata": {},
   "source": [
    "Najdu jen odkaz "
   ]
  },
  {
   "cell_type": "markdown",
   "metadata": {},
   "source": [
    "def getAllLinks(link):\n",
    "    soup = getSoup(link)\n",
    "    tds = soup.findAll('ol')\n",
    "    return [td.find('li').find('a')['href'] for td in tds]\n",
    "\n",
    "links = getAllLinks('https://en.wikipedia.org/wiki/20th_Century%27s_Greatest_Hits:_100_English-Language_Books_of_Fiction')\n",
    "links"
   ]
  },
  {
   "cell_type": "code",
   "execution_count": null,
   "metadata": {},
   "outputs": [],
   "source": []
  },
  {
   "cell_type": "code",
   "execution_count": null,
   "metadata": {},
   "outputs": [],
   "source": []
  },
  {
   "cell_type": "code",
   "execution_count": null,
   "metadata": {},
   "outputs": [],
   "source": []
  },
  {
   "cell_type": "code",
   "execution_count": null,
   "metadata": {},
   "outputs": [],
   "source": []
  },
  {
   "cell_type": "code",
   "execution_count": null,
   "metadata": {},
   "outputs": [],
   "source": []
  },
  {
   "cell_type": "code",
   "execution_count": 7,
   "metadata": {},
   "outputs": [],
   "source": [
    "def getSoup(link):\n",
    "    r = requests.get(link)\n",
    "    r.encoding = 'UTF-8'\n",
    "    return BeautifulSoup(r.text,'lxml')"
   ]
  },
  {
   "cell_type": "code",
   "execution_count": 8,
   "metadata": {},
   "outputs": [
    {
     "data": {
      "text/plain": [
       "['https://en.wikipedia.org/wiki/Nineteen_Eighty-Four',\n",
       " 'https://en.wikipedia.org/wiki/The_Ambassadors',\n",
       " 'https://en.wikipedia.org/wiki/An_American_Tragedy',\n",
       " 'https://en.wikipedia.org/wiki/Brave_New_World',\n",
       " 'https://en.wikipedia.org/wiki/Catch-22',\n",
       " 'https://en.wikipedia.org/wiki/The_Catcher_in_the_Rye',\n",
       " 'https://en.wikipedia.org/wiki/A_Clockwork_Orange_(novel)',\n",
       " 'https://en.wikipedia.org/wiki/The_Day_of_the_Locust',\n",
       " 'https://en.wikipedia.org/wiki/Finnegans_Wake',\n",
       " 'https://en.wikipedia.org/wiki/The_Grapes_of_Wrath',\n",
       " 'https://en.wikipedia.org/wiki/The_Great_Gatsby',\n",
       " 'https://en.wikipedia.org/wiki/Heart_of_Darkness',\n",
       " 'https://en.wikipedia.org/wiki/The_House_of_Mirth',\n",
       " 'https://en.wikipedia.org/wiki/Invisible_Man',\n",
       " 'https://en.wikipedia.org/wiki/Ironweed_(novel)',\n",
       " 'https://en.wikipedia.org/wiki/Lolita',\n",
       " 'https://en.wikipedia.org/wiki/Midnight%27s_Children',\n",
       " 'https://en.wikipedia.org/wiki/The_Naked_and_the_Dead',\n",
       " 'https://en.wikipedia.org/wiki/Native_Son',\n",
       " 'https://en.wikipedia.org/wiki/On_the_Road',\n",
       " 'https://en.wikipedia.org/wiki/Pale_Fire',\n",
       " 'https://en.wikipedia.org/wiki/A_Passage_to_India',\n",
       " 'https://en.wikipedia.org/wiki/A_Portrait_of_the_Artist_as_a_Young_Man',\n",
       " 'https://en.wikipedia.org/wiki/The_Sheltering_Sky',\n",
       " 'https://en.wikipedia.org/wiki/Slaughterhouse-Five',\n",
       " 'https://en.wikipedia.org/wiki/The_Sound_and_the_Fury',\n",
       " 'https://en.wikipedia.org/wiki/The_Sun_Also_Rises',\n",
       " 'https://en.wikipedia.org/wiki/To_the_Lighthouse',\n",
       " 'https://en.wikipedia.org/wiki/Tropic_of_Cancer_(novel)',\n",
       " 'https://en.wikipedia.org/wiki/Ulysses_(novel)',\n",
       " 'https://en.wikipedia.org/wiki/Under_the_Volcano',\n",
       " 'https://en.wikipedia.org/wiki/U.S.A._(trilogy)',\n",
       " 'https://en.wikipedia.org/wiki/Winesburg,_Ohio',\n",
       " 'https://en.wikipedia.org/wiki/Women_in_Love']"
      ]
     },
     "execution_count": 8,
     "metadata": {},
     "output_type": "execute_result"
    }
   ],
   "source": [
    "def getAllLinks(link):\n",
    "    soup = getSoup(link)\n",
    "    x = soup.find('ol')\n",
    "    tds =x.findAll('li')\n",
    "    return ['https://en.wikipedia.org' +td.find('a')['href'] for td in tds]\n",
    "\n",
    "links = getAllLinks('https://en.wikipedia.org/wiki/20th_Century%27s_Greatest_Hits:_100_English-Language_Books_of_Fiction')\n",
    "links"
   ]
  },
  {
   "cell_type": "markdown",
   "metadata": {},
   "source": [
    "### 3. DafaFrame: jmeno knihy, a dalsi info z tabulky"
   ]
  },
  {
   "cell_type": "markdown",
   "metadata": {},
   "source": [
    "### 2. Otevru link a najdu tabulku se jmenem autora"
   ]
  },
  {
   "cell_type": "markdown",
   "metadata": {},
   "source": [
    "zkusim nejdriv pro Lolitu: https://en.wikipedia.org/wiki/Lolita"
   ]
  },
  {
   "cell_type": "markdown",
   "metadata": {},
   "source": [
    "def getAllLolitaLinks(link):\n",
    "    soup = getSoup(link)\n",
    "    x = soup.find('tbody')\n",
    "    tds =x.findAll('td')\n",
    "    return [td for td in tds]\n",
    "\n",
    "links = getAllLolitaLinks('https://en.wikipedia.org/wiki/Lolita')\n",
    "links"
   ]
  },
  {
   "cell_type": "markdown",
   "metadata": {},
   "source": [
    "def getAllLolitaLinks(link):\n",
    "    soup = getSoup(link)\n",
    "    x = soup.find('tbody')\n",
    "    tds =x.findAll('td')\n",
    "    return [td.find('a')['href'] for td in tds]\n",
    "\n",
    "links = getAllLinks('https://en.wikipedia.org/wiki/Lolita')\n",
    "links"
   ]
  },
  {
   "cell_type": "code",
   "execution_count": 33,
   "metadata": {},
   "outputs": [
    {
     "data": {
      "text/plain": [
       "[<th scope=\"row\">Author</th>,\n",
       " <th scope=\"row\">Country</th>,\n",
       " <th scope=\"row\">Language</th>,\n",
       " <th scope=\"row\">Genre</th>,\n",
       " <th scope=\"row\">Publisher</th>,\n",
       " <th scope=\"row\"><div style=\"padding:0.1em 0;line-height:1.2em;\">Publication date</div></th>,\n",
       " <th scope=\"row\">Pages</th>]"
      ]
     },
     "execution_count": 33,
     "metadata": {},
     "output_type": "execute_result"
    }
   ],
   "source": [
    "def getAllLinks(link):\n",
    "    soup = getSoup(link)\n",
    "    x=soup.find('tbody')\n",
    "    tds = x.findAll('th', {'scope':'row'})\n",
    "    return [td for td in tds]\n",
    "\n",
    "links = getAllLinks('https://en.wikipedia.org/wiki/Lolita')\n",
    "links"
   ]
  },
  {
   "cell_type": "markdown",
   "metadata": {},
   "source": [
    "Dal stahnu values techto radku. To bych udelala pres Parent k predeslemu a Child od nej."
   ]
  },
  {
   "cell_type": "code",
   "execution_count": null,
   "metadata": {},
   "outputs": [],
   "source": []
  },
  {
   "cell_type": "code",
   "execution_count": null,
   "metadata": {},
   "outputs": [],
   "source": []
  },
  {
   "cell_type": "markdown",
   "metadata": {},
   "source": [
    "Chybi mi jeste opravit funkce pro Lolita, tak aby stahovaly vsechny info o vsech knihach. "
   ]
  },
  {
   "cell_type": "code",
   "execution_count": 16,
   "metadata": {},
   "outputs": [
    {
     "data": {
      "text/plain": [
       "[[<th scope=\"row\">Author</th>,\n",
       "  <th scope=\"row\">Cover artist</th>,\n",
       "  <th scope=\"row\">Country</th>,\n",
       "  <th scope=\"row\">Language</th>,\n",
       "  <th scope=\"row\">Genre</th>,\n",
       "  <th scope=\"row\">Set in</th>,\n",
       "  <th scope=\"row\">Publisher</th>,\n",
       "  <th scope=\"row\">Media type</th>,\n",
       "  <th scope=\"row\">Pages</th>,\n",
       "  <th scope=\"row\">Awards</th>,\n",
       "  <th scope=\"row\"><a href=\"/wiki/OCLC#Identifiers_and_linked_data\" title=\"OCLC\"><abbr title=\"Online Computer Library Center number\">OCLC</abbr></a></th>,\n",
       "  <th scope=\"row\"><div style=\"padding:0.1em 0;line-height:1.2em;\"><a href=\"/wiki/Dewey_Decimal_Classification\" title=\"Dewey Decimal Classification\">Dewey Decimal</a></div></th>],\n",
       " [<th scope=\"row\">Author</th>,\n",
       "  <th scope=\"row\">Country</th>,\n",
       "  <th scope=\"row\">Language</th>,\n",
       "  <th scope=\"row\">Genre</th>,\n",
       "  <th scope=\"row\">Publisher</th>,\n",
       "  <th scope=\"row\"><div style=\"padding:0.1em 0;line-height:1.2em;\">Publication date</div></th>,\n",
       "  <th scope=\"row\">Media type</th>,\n",
       "  <th scope=\"row\">Pages</th>,\n",
       "  <th scope=\"row\"><a href=\"/wiki/OCLC#Identifiers_and_linked_data\" title=\"OCLC\"><abbr title=\"Online Computer Library Center number\">OCLC</abbr></a></th>],\n",
       " [<th scope=\"row\">Author</th>,\n",
       "  <th scope=\"row\">Country</th>,\n",
       "  <th scope=\"row\">Language</th>,\n",
       "  <th scope=\"row\">Genre</th>,\n",
       "  <th scope=\"row\">Publisher</th>,\n",
       "  <th scope=\"row\"><div style=\"padding:0.1em 0;line-height:1.2em;\">Publication date</div></th>,\n",
       "  <th scope=\"row\"><div style=\"padding:0.1em 0;line-height:1.2em;\"><a href=\"/wiki/Dewey_Decimal_Classification\" title=\"Dewey Decimal Classification\">Dewey Decimal</a></div></th>],\n",
       " [<th scope=\"row\">Author</th>,\n",
       "  <th scope=\"row\">Cover artist</th>,\n",
       "  <th scope=\"row\">Country</th>,\n",
       "  <th scope=\"row\">Language</th>,\n",
       "  <th scope=\"row\">Genre</th>,\n",
       "  <th scope=\"row\">Published</th>,\n",
       "  <th scope=\"row\">Pages</th>,\n",
       "  <th scope=\"row\"><a href=\"/wiki/OCLC#Identifiers_and_linked_data\" title=\"OCLC\"><abbr title=\"Online Computer Library Center number\">OCLC</abbr></a></th>],\n",
       " [<th scope=\"row\">Author</th>,\n",
       "  <th scope=\"row\">Cover artist</th>,\n",
       "  <th scope=\"row\">Country</th>,\n",
       "  <th scope=\"row\">Language</th>,\n",
       "  <th scope=\"row\">Genre</th>,\n",
       "  <th scope=\"row\">Publisher</th>,\n",
       "  <th scope=\"row\"><div style=\"padding:0.1em 0;line-height:1.2em;\">Publication date</div></th>,\n",
       "  <th scope=\"row\">Media type</th>,\n",
       "  <th scope=\"row\">Pages</th>,\n",
       "  <th scope=\"row\"><a href=\"/wiki/International_Standard_Book_Number\" title=\"International Standard Book Number\">ISBN</a></th>,\n",
       "  <th scope=\"row\"><a href=\"/wiki/OCLC#Identifiers_and_linked_data\" title=\"OCLC\"><abbr title=\"Online Computer Library Center number\">OCLC</abbr></a></th>,\n",
       "  <th scope=\"row\"><div style=\"padding:0.1em 0;line-height:1.2em;\"><a href=\"/wiki/Dewey_Decimal_Classification\" title=\"Dewey Decimal Classification\">Dewey Decimal</a></div></th>,\n",
       "  <th scope=\"row\"><a href=\"/wiki/Library_of_Congress_Classification\" title=\"Library of Congress Classification\"><abbr title=\"Library of Congress Classification\">LC Class</abbr></a></th>,\n",
       "  <th scope=\"row\">Followed by</th>],\n",
       " [<th scope=\"row\">Author</th>,\n",
       "  <th scope=\"row\">Cover artist</th>,\n",
       "  <th scope=\"row\">Country</th>,\n",
       "  <th scope=\"row\">Language</th>,\n",
       "  <th scope=\"row\">Genre</th>,\n",
       "  <th scope=\"row\">Published</th>,\n",
       "  <th scope=\"row\">Publisher</th>,\n",
       "  <th scope=\"row\">Media type</th>,\n",
       "  <th scope=\"row\">Pages</th>,\n",
       "  <th scope=\"row\"><a href=\"/wiki/OCLC#Identifiers_and_linked_data\" title=\"OCLC\"><abbr title=\"Online Computer Library Center number\">OCLC</abbr></a></th>,\n",
       "  <th scope=\"row\"><div style=\"padding:0.1em 0;line-height:1.2em;\"><a href=\"/wiki/Dewey_Decimal_Classification\" title=\"Dewey Decimal Classification\">Dewey Decimal</a></div></th>],\n",
       " [<th scope=\"row\">Author</th>,\n",
       "  <th scope=\"row\">Cover artist</th>,\n",
       "  <th scope=\"row\">Country</th>,\n",
       "  <th scope=\"row\">Language</th>,\n",
       "  <th scope=\"row\">Genre</th>,\n",
       "  <th scope=\"row\">Published</th>,\n",
       "  <th scope=\"row\">Media type</th>,\n",
       "  <th scope=\"row\">Pages</th>,\n",
       "  <th scope=\"row\"><a href=\"/wiki/International_Standard_Book_Number\" title=\"International Standard Book Number\">ISBN</a></th>,\n",
       "  <th scope=\"row\"><a href=\"/wiki/OCLC#Identifiers_and_linked_data\" title=\"OCLC\"><abbr title=\"Online Computer Library Center number\">OCLC</abbr></a></th>],\n",
       " [<th scope=\"row\">Author</th>,\n",
       "  <th scope=\"row\">Country</th>,\n",
       "  <th scope=\"row\">Language</th>,\n",
       "  <th scope=\"row\">Genre</th>,\n",
       "  <th scope=\"row\">Publisher</th>,\n",
       "  <th scope=\"row\"><div style=\"padding:0.1em 0;line-height:1.2em;\">Publication date</div></th>,\n",
       "  <th scope=\"row\">Media type</th>,\n",
       "  <th scope=\"row\">Pages</th>,\n",
       "  <th scope=\"row\"><a href=\"/wiki/International_Standard_Book_Number\" title=\"International Standard Book Number\">ISBN</a></th>,\n",
       "  <th scope=\"row\"><a href=\"/wiki/OCLC#Identifiers_and_linked_data\" title=\"OCLC\"><abbr title=\"Online Computer Library Center number\">OCLC</abbr></a></th>],\n",
       " [<th scope=\"row\">Author</th>,\n",
       "  <th scope=\"row\">Language</th>,\n",
       "  <th scope=\"row\">Genre</th>,\n",
       "  <th scope=\"row\">Publisher</th>,\n",
       "  <th scope=\"row\"><div style=\"padding:0.1em 0;line-height:1.2em;\">Publication date</div></th>,\n",
       "  <th scope=\"row\"><a href=\"/wiki/OCLC#Identifiers_and_linked_data\" title=\"OCLC\"><abbr title=\"Online Computer Library Center number\">OCLC</abbr></a></th>,\n",
       "  <th scope=\"row\"><div style=\"padding:0.1em 0;line-height:1.2em;\"><a href=\"/wiki/Dewey_Decimal_Classification\" title=\"Dewey Decimal Classification\">Dewey Decimal</a></div></th>,\n",
       "  <th scope=\"row\"><a href=\"/wiki/Library_of_Congress_Classification\" title=\"Library of Congress Classification\"><abbr title=\"Library of Congress Classification\">LC Class</abbr></a></th>,\n",
       "  <th scope=\"row\">Preceded by</th>],\n",
       " [<th scope=\"row\">Author</th>,\n",
       "  <th scope=\"row\">Cover artist</th>,\n",
       "  <th scope=\"row\">Country</th>,\n",
       "  <th scope=\"row\">Language</th>,\n",
       "  <th scope=\"row\">Genre</th>,\n",
       "  <th scope=\"row\">Publisher</th>,\n",
       "  <th scope=\"row\"><div style=\"padding:0.1em 0;line-height:1.2em;\">Publication date</div></th>,\n",
       "  <th scope=\"row\">Pages</th>,\n",
       "  <th scope=\"row\"><a href=\"/wiki/OCLC#Identifiers_and_linked_data\" title=\"OCLC\"><abbr title=\"Online Computer Library Center number\">OCLC</abbr></a></th>,\n",
       "  <th scope=\"row\"><div style=\"padding:0.1em 0;line-height:1.2em;\"><a href=\"/wiki/Dewey_Decimal_Classification\" title=\"Dewey Decimal Classification\">Dewey Decimal</a></div></th>],\n",
       " [<th scope=\"row\">Author</th>,\n",
       "  <th scope=\"row\">Cover artist</th>,\n",
       "  <th scope=\"row\">Country</th>,\n",
       "  <th scope=\"row\">Language</th>,\n",
       "  <th scope=\"row\">Genre</th>,\n",
       "  <th scope=\"row\">Published</th>,\n",
       "  <th scope=\"row\">Publisher</th>,\n",
       "  <th scope=\"row\">Media type</th>,\n",
       "  <th scope=\"row\">Pages</th>,\n",
       "  <th scope=\"row\">Preceded by</th>,\n",
       "  <th scope=\"row\">Followed by</th>],\n",
       " [<th scope=\"row\">Author</th>,\n",
       "  <th scope=\"row\">Country</th>,\n",
       "  <th scope=\"row\">Language</th>,\n",
       "  <th scope=\"row\">Genre</th>,\n",
       "  <th scope=\"row\">Published</th>,\n",
       "  <th scope=\"row\">Publisher</th>,\n",
       "  <th scope=\"row\">Preceded by</th>,\n",
       "  <th scope=\"row\">Followed by</th>,\n",
       "  <th scope=\"row\">Text</th>],\n",
       " [<th scope=\"row\">Author</th>,\n",
       "  <th scope=\"row\">Country</th>,\n",
       "  <th scope=\"row\">Language</th>,\n",
       "  <th scope=\"row\">Genre</th>,\n",
       "  <th scope=\"row\">Published</th>,\n",
       "  <th scope=\"row\">Media type</th>],\n",
       " [<th scope=\"row\">Author</th>,\n",
       "  <th scope=\"row\">Cover artist</th>,\n",
       "  <th scope=\"row\">Country</th>,\n",
       "  <th scope=\"row\">Language</th>,\n",
       "  <th scope=\"row\">Genre</th>,\n",
       "  <th scope=\"row\">Publisher</th>,\n",
       "  <th scope=\"row\"><div style=\"padding:0.1em 0;line-height:1.2em;\">Publication date</div></th>,\n",
       "  <th scope=\"row\">Media type</th>,\n",
       "  <th scope=\"row\">Pages</th>,\n",
       "  <th scope=\"row\"><a href=\"/wiki/International_Standard_Book_Number\" title=\"International Standard Book Number\">ISBN</a></th>,\n",
       "  <th scope=\"row\"><a href=\"/wiki/OCLC#Identifiers_and_linked_data\" title=\"OCLC\"><abbr title=\"Online Computer Library Center number\">OCLC</abbr></a></th>,\n",
       "  <th scope=\"row\"><div style=\"padding:0.1em 0;line-height:1.2em;\"><a href=\"/wiki/Dewey_Decimal_Classification\" title=\"Dewey Decimal Classification\">Dewey Decimal</a></div></th>,\n",
       "  <th scope=\"row\"><a href=\"/wiki/Library_of_Congress_Classification\" title=\"Library of Congress Classification\"><abbr title=\"Library of Congress Classification\">LC Class</abbr></a></th>],\n",
       " [],\n",
       " [<th scope=\"row\">Author</th>,\n",
       "  <th scope=\"row\">Country</th>,\n",
       "  <th scope=\"row\">Language</th>,\n",
       "  <th scope=\"row\">Genre</th>,\n",
       "  <th scope=\"row\">Publisher</th>,\n",
       "  <th scope=\"row\"><div style=\"padding:0.1em 0;line-height:1.2em;\">Publication date</div></th>,\n",
       "  <th scope=\"row\">Pages</th>],\n",
       " [<th scope=\"row\">Author</th>,\n",
       "  <th scope=\"row\">Cover artist</th>,\n",
       "  <th scope=\"row\">Country</th>,\n",
       "  <th scope=\"row\">Language</th>,\n",
       "  <th scope=\"row\">Genre</th>,\n",
       "  <th scope=\"row\">Publisher</th>,\n",
       "  <th scope=\"row\"><div style=\"padding:0.1em 0;line-height:1.2em;\">Publication date</div></th>,\n",
       "  <th scope=\"row\">Media type</th>,\n",
       "  <th scope=\"row\">Pages</th>,\n",
       "  <th scope=\"row\"><a href=\"/wiki/International_Standard_Book_Number\" title=\"International Standard Book Number\">ISBN</a></th>,\n",
       "  <th scope=\"row\"><a href=\"/wiki/OCLC#Identifiers_and_linked_data\" title=\"OCLC\"><abbr title=\"Online Computer Library Center number\">OCLC</abbr></a></th>],\n",
       " [<th scope=\"row\">Author</th>,\n",
       "  <th scope=\"row\">Cover artist</th>,\n",
       "  <th scope=\"row\">Country</th>,\n",
       "  <th scope=\"row\">Language</th>,\n",
       "  <th scope=\"row\">Publisher</th>,\n",
       "  <th scope=\"row\"><div style=\"padding:0.1em 0;line-height:1.2em;\">Publication date</div></th>,\n",
       "  <th scope=\"row\">Media type</th>,\n",
       "  <th scope=\"row\">Pages</th>],\n",
       " [<th scope=\"row\">Author</th>,\n",
       "  <th scope=\"row\">Country</th>,\n",
       "  <th scope=\"row\">Language</th>,\n",
       "  <th scope=\"row\">Genre</th>,\n",
       "  <th scope=\"row\">Publisher</th>,\n",
       "  <th scope=\"row\"><div style=\"padding:0.1em 0;line-height:1.2em;\">Publication date</div></th>,\n",
       "  <th scope=\"row\">Media type</th>,\n",
       "  <th scope=\"row\"><a href=\"/wiki/OCLC#Identifiers_and_linked_data\" title=\"OCLC\"><abbr title=\"Online Computer Library Center number\">OCLC</abbr></a></th>,\n",
       "  <th scope=\"row\"><div style=\"padding:0.1em 0;line-height:1.2em;\"><a href=\"/wiki/Dewey_Decimal_Classification\" title=\"Dewey Decimal Classification\">Dewey Decimal</a></div></th>],\n",
       " [<th scope=\"row\">Author</th>,\n",
       "  <th scope=\"row\">Country</th>,\n",
       "  <th scope=\"row\">Language</th>,\n",
       "  <th scope=\"row\">Genre</th>,\n",
       "  <th scope=\"row\">Publisher</th>,\n",
       "  <th scope=\"row\"><div style=\"padding:0.1em 0;line-height:1.2em;\">Publication date</div></th>,\n",
       "  <th scope=\"row\">Media type</th>,\n",
       "  <th scope=\"row\">Pages</th>,\n",
       "  <th scope=\"row\"><a href=\"/wiki/OCLC#Identifiers_and_linked_data\" title=\"OCLC\"><abbr title=\"Online Computer Library Center number\">OCLC</abbr></a></th>,\n",
       "  <th scope=\"row\">Preceded by</th>,\n",
       "  <th scope=\"row\">Followed by</th>],\n",
       " [<th scope=\"row\">Author</th>,\n",
       "  <th scope=\"row\">Country</th>,\n",
       "  <th scope=\"row\">Language</th>,\n",
       "  <th scope=\"row\">Publisher</th>,\n",
       "  <th scope=\"row\"><div style=\"padding:0.1em 0;line-height:1.2em;\">Publication date</div></th>,\n",
       "  <th scope=\"row\">Pages</th>,\n",
       "  <th scope=\"row\"><a href=\"/wiki/OCLC#Identifiers_and_linked_data\" title=\"OCLC\"><abbr title=\"Online Computer Library Center number\">OCLC</abbr></a></th>],\n",
       " [<th scope=\"row\">Author</th>,\n",
       "  <th scope=\"row\">Country</th>,\n",
       "  <th scope=\"row\">Language</th>,\n",
       "  <th scope=\"row\">Publisher</th>,\n",
       "  <th scope=\"row\"><div style=\"padding:0.1em 0;line-height:1.2em;\">Publication date</div></th>,\n",
       "  <th scope=\"row\">Media type</th>,\n",
       "  <th scope=\"row\"><a href=\"/wiki/OCLC#Identifiers_and_linked_data\" title=\"OCLC\"><abbr title=\"Online Computer Library Center number\">OCLC</abbr></a></th>],\n",
       " [<th scope=\"row\">Author</th>,\n",
       "  <th scope=\"row\">Language</th>,\n",
       "  <th scope=\"row\">Genre</th>,\n",
       "  <th scope=\"row\">Set in</th>,\n",
       "  <th scope=\"row\">Published</th>,\n",
       "  <th scope=\"row\">Publisher</th>,\n",
       "  <th scope=\"row\">Media type</th>,\n",
       "  <th scope=\"row\">Pages</th>,\n",
       "  <th scope=\"row\"><div style=\"padding:0.1em 0;line-height:1.2em;\"><a href=\"/wiki/Dewey_Decimal_Classification\" title=\"Dewey Decimal Classification\">Dewey Decimal</a></div></th>,\n",
       "  <th scope=\"row\"><a href=\"/wiki/Library_of_Congress_Classification\" title=\"Library of Congress Classification\"><abbr title=\"Library of Congress Classification\">LC Class</abbr></a></th>],\n",
       " [<th scope=\"row\">Author</th>,\n",
       "  <th scope=\"row\">Country</th>,\n",
       "  <th scope=\"row\">Language</th>,\n",
       "  <th scope=\"row\">Publisher</th>,\n",
       "  <th scope=\"row\"><div style=\"padding:0.1em 0;line-height:1.2em;\">Publication date</div></th>,\n",
       "  <th scope=\"row\">Media type</th>,\n",
       "  <th scope=\"row\">Pages</th>],\n",
       " [<th scope=\"row\">Author</th>,\n",
       "  <th scope=\"row\">Country</th>,\n",
       "  <th scope=\"row\">Language</th>,\n",
       "  <th scope=\"row\">Genre</th>,\n",
       "  <th scope=\"row\">Publisher</th>,\n",
       "  <th scope=\"row\"><div style=\"padding:0.1em 0;line-height:1.2em;\">Publication date</div></th>,\n",
       "  <th scope=\"row\"><a href=\"/wiki/International_Standard_Book_Number\" title=\"International Standard Book Number\">ISBN</a></th>,\n",
       "  <th scope=\"row\"><a href=\"/wiki/OCLC#Identifiers_and_linked_data\" title=\"OCLC\"><abbr title=\"Online Computer Library Center number\">OCLC</abbr></a></th>,\n",
       "  <th scope=\"row\"><a href=\"/wiki/Library_of_Congress_Classification\" title=\"Library of Congress Classification\"><abbr title=\"Library of Congress Classification\">LC Class</abbr></a></th>],\n",
       " [<th scope=\"row\">Author</th>,\n",
       "  <th scope=\"row\">Country</th>,\n",
       "  <th scope=\"row\">Language</th>,\n",
       "  <th scope=\"row\">Genre</th>,\n",
       "  <th scope=\"row\">Published</th>,\n",
       "  <th scope=\"row\">Publisher</th>,\n",
       "  <th scope=\"row\"><div style=\"padding:0.1em 0;line-height:1.2em;\">Publication date</div></th>,\n",
       "  <th scope=\"row\">Pages</th>,\n",
       "  <th scope=\"row\"><a href=\"/wiki/OCLC#Identifiers_and_linked_data\" title=\"OCLC\"><abbr title=\"Online Computer Library Center number\">OCLC</abbr></a></th>,\n",
       "  <th scope=\"row\"><div style=\"padding:0.1em 0;line-height:1.2em;\"><a href=\"/wiki/Dewey_Decimal_Classification\" title=\"Dewey Decimal Classification\">Dewey Decimal</a></div></th>,\n",
       "  <th scope=\"row\"><a href=\"/wiki/Library_of_Congress_Classification\" title=\"Library of Congress Classification\"><abbr title=\"Library of Congress Classification\">LC Class</abbr></a></th>],\n",
       " [],\n",
       " [<th scope=\"row\">Author</th>,\n",
       "  <th scope=\"row\">Cover artist</th>,\n",
       "  <th scope=\"row\">Country</th>,\n",
       "  <th scope=\"row\">Language</th>,\n",
       "  <th scope=\"row\">Genre</th>,\n",
       "  <th scope=\"row\">Publisher</th>,\n",
       "  <th scope=\"row\"><div style=\"padding:0.1em 0;line-height:1.2em;\">Publication date</div></th>,\n",
       "  <th scope=\"row\">Preceded by</th>,\n",
       "  <th scope=\"row\">Followed by</th>],\n",
       " [<th scope=\"row\">Author</th>,\n",
       "  <th scope=\"row\">Cover artist</th>,\n",
       "  <th scope=\"row\">Country</th>,\n",
       "  <th scope=\"row\">Language</th>,\n",
       "  <th scope=\"row\">Genre</th>,\n",
       "  <th scope=\"row\">Publisher</th>,\n",
       "  <th scope=\"row\"><div style=\"padding:0.1em 0;line-height:1.2em;\">Publication date</div></th>,\n",
       "  <th scope=\"row\">Media type</th>,\n",
       "  <th scope=\"row\">Pages</th>,\n",
       "  <th scope=\"row\">Followed by</th>],\n",
       " [<th scope=\"row\">Author</th>,\n",
       "  <th scope=\"row\">Language</th>,\n",
       "  <th scope=\"row\">Genre</th>,\n",
       "  <th scope=\"row\">Set in</th>,\n",
       "  <th scope=\"row\">Publisher</th>,\n",
       "  <th scope=\"row\"><div style=\"padding:0.1em 0;line-height:1.2em;\">Publication date</div></th>,\n",
       "  <th scope=\"row\">Media type</th>,\n",
       "  <th scope=\"row\">Pages</th>,\n",
       "  <th scope=\"row\"><div style=\"padding:0.1em 0;line-height:1.2em;\"><a href=\"/wiki/Dewey_Decimal_Classification\" title=\"Dewey Decimal Classification\">Dewey Decimal</a></div></th>,\n",
       "  <th scope=\"row\"><a href=\"/wiki/Library_of_Congress_Classification\" title=\"Library of Congress Classification\"><abbr title=\"Library of Congress Classification\">LC Class</abbr></a></th>,\n",
       "  <th scope=\"row\">Preceded by</th>,\n",
       "  <th scope=\"row\">Followed by</th>,\n",
       "  <th scope=\"row\">Text</th>],\n",
       " [<th scope=\"row\">Author</th>,\n",
       "  <th scope=\"row\">Country</th>,\n",
       "  <th scope=\"row\">Publisher</th>,\n",
       "  <th scope=\"row\"><div style=\"padding:0.1em 0;line-height:1.2em;\">Publication date</div></th>],\n",
       " [<th scope=\"row\">Author</th>,\n",
       "  <th scope=\"row\">Country</th>,\n",
       "  <th scope=\"row\">Language</th>,\n",
       "  <th scope=\"row\">Publisher</th>,\n",
       "  <th scope=\"row\">Media type</th>,\n",
       "  <th scope=\"row\">Pages</th>,\n",
       "  <th scope=\"row\"><a href=\"/wiki/International_Standard_Book_Number\" title=\"International Standard Book Number\">ISBN</a></th>,\n",
       "  <th scope=\"row\"><a href=\"/wiki/OCLC#Identifiers_and_linked_data\" title=\"OCLC\"><abbr title=\"Online Computer Library Center number\">OCLC</abbr></a></th>,\n",
       "  <th scope=\"row\"><div style=\"padding:0.1em 0;line-height:1.2em;\"><a href=\"/wiki/Dewey_Decimal_Classification\" title=\"Dewey Decimal Classification\">Dewey Decimal</a></div></th>,\n",
       "  <th scope=\"row\"><a href=\"/wiki/Library_of_Congress_Classification\" title=\"Library of Congress Classification\"><abbr title=\"Library of Congress Classification\">LC Class</abbr></a></th>],\n",
       " [<th scope=\"row\">Author</th>,\n",
       "  <th scope=\"row\">Country</th>,\n",
       "  <th scope=\"row\">Language</th>,\n",
       "  <th scope=\"row\">Genre</th>,\n",
       "  <th scope=\"row\">Publisher</th>,\n",
       "  <th scope=\"row\"><div style=\"padding:0.1em 0;line-height:1.2em;\">Publication date</div></th>,\n",
       "  <th scope=\"row\">Media type</th>,\n",
       "  <th scope=\"row\"><a href=\"/wiki/OCLC#Identifiers_and_linked_data\" title=\"OCLC\"><abbr title=\"Online Computer Library Center number\">OCLC</abbr></a></th>,\n",
       "  <th scope=\"row\"><div style=\"padding:0.1em 0;line-height:1.2em;\"><a href=\"/wiki/Dewey_Decimal_Classification\" title=\"Dewey Decimal Classification\">Dewey Decimal</a></div></th>],\n",
       " [<th scope=\"row\">Author</th>,\n",
       "  <th scope=\"row\">Language</th>,\n",
       "  <th scope=\"row\">Genre</th>,\n",
       "  <th scope=\"row\">Publisher</th>,\n",
       "  <th scope=\"row\"><div style=\"padding:0.1em 0;line-height:1.2em;\">Publication date</div></th>,\n",
       "  <th scope=\"row\">Media type</th>,\n",
       "  <th scope=\"row\">Pages</th>,\n",
       "  <th scope=\"row\">Preceded by</th>,\n",
       "  <th scope=\"row\">Followed by</th>]]"
      ]
     },
     "execution_count": 16,
     "metadata": {},
     "output_type": "execute_result"
    }
   ],
   "source": [
    "def getAllLinksFromAllBooks(link):\n",
    "    soup = getSoup(link)\n",
    "    x=soup.find('tbody')\n",
    "    tds = x.findAll('th', {'scope':'row'})\n",
    "    return [td for td in tds]\n",
    "\n",
    "[getAllLinksFromAllBooks(link) for link in links]"
   ]
  },
  {
   "cell_type": "markdown",
   "metadata": {},
   "source": [
    "Tady by chtelo vytahnout jen ten text"
   ]
  },
  {
   "cell_type": "code",
   "execution_count": null,
   "metadata": {},
   "outputs": [],
   "source": [
    "def getAllLinksFromAllBooks(link):\n",
    "    soup = getSoup(link)\n",
    "    x=soup.find('tbody')\n",
    "    tds = x.findAll('th', {'scope':'row'})\n",
    "    return [td for td in tds]\n",
    "\n",
    "[getAllLinksFromAllBooks(link) for link in links]"
   ]
  },
  {
   "cell_type": "code",
   "execution_count": null,
   "metadata": {},
   "outputs": [],
   "source": []
  },
  {
   "cell_type": "code",
   "execution_count": null,
   "metadata": {},
   "outputs": [],
   "source": [
    "pak bych udelala DataFrame pomoci Panda. l by byla data pro getAllLinksFromAllBooks a values"
   ]
  },
  {
   "cell_type": "code",
   "execution_count": null,
   "metadata": {},
   "outputs": [],
   "source": [
    "pd.DataFrame(l)"
   ]
  },
  {
   "cell_type": "code",
   "execution_count": null,
   "metadata": {},
   "outputs": [],
   "source": []
  },
  {
   "cell_type": "code",
   "execution_count": null,
   "metadata": {},
   "outputs": [],
   "source": []
  },
  {
   "cell_type": "code",
   "execution_count": null,
   "metadata": {},
   "outputs": [],
   "source": []
  },
  {
   "cell_type": "markdown",
   "metadata": {},
   "source": [
    "# Last step: Class"
   ]
  },
  {
   "cell_type": "code",
   "execution_count": null,
   "metadata": {},
   "outputs": [],
   "source": []
  },
  {
   "cell_type": "code",
   "execution_count": null,
   "metadata": {},
   "outputs": [],
   "source": [
    "\n",
    "class Book:\n",
    "    def __init__(self,link):\n",
    "        r = requests.get(link)\n",
    "        r.encoding = 'UTF-8'\n",
    "        return BeautifulSoup(r.text,'lxml')\n",
    "        \n",
    "    def getAllLinks(link):\n",
    "        soup = getSoup(link)\n",
    "        x = soup.find('ol')\n",
    "        tds =x.findAll('li')\n",
    "        return ['https://en.wikipedia.org' +td.find('a')['href'] for td in tds]\n",
    "\n",
    "\n",
    "\n",
    "bestbooks = [Book(link) for link in links]"
   ]
  },
  {
   "cell_type": "code",
   "execution_count": null,
   "metadata": {},
   "outputs": [],
   "source": [
    "\n",
    "\n"
   ]
  }
 ],
 "metadata": {
  "kernelspec": {
   "display_name": "Python 3",
   "language": "python",
   "name": "python3"
  },
  "language_info": {
   "codemirror_mode": {
    "name": "ipython",
    "version": 3
   },
   "file_extension": ".py",
   "mimetype": "text/x-python",
   "name": "python",
   "nbconvert_exporter": "python",
   "pygments_lexer": "ipython3",
   "version": "3.7.4"
  }
 },
 "nbformat": 4,
 "nbformat_minor": 2
}
