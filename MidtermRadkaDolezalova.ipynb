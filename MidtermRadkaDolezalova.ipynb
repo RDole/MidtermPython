{
 "cells": [
  {
   "cell_type": "markdown",
   "metadata": {},
   "source": [
    "# Midterm\n",
    "Books"
   ]
  },
  {
   "cell_type": "code",
   "execution_count": 1,
   "metadata": {},
   "outputs": [],
   "source": [
    "import requests\n",
    "from bs4 import BeautifulSoup\n",
    "import math\n",
    "import tqdm\n",
    "import json\n",
    "import pandas as pd\n",
    "import datetime\n",
    "import time\n",
    "\n",
    "import requests\n",
    "from bs4 import BeautifulSoup\n",
    "import pandas as pd\n",
    "import time\n",
    "from IPython.core.debugger import Tracer"
   ]
  },
  {
   "cell_type": "markdown",
   "metadata": {},
   "source": [
    "Najdu prvni ol"
   ]
  },
  {
   "cell_type": "code",
   "execution_count": null,
   "metadata": {},
   "outputs": [],
   "source": [
    "def getSoup(link):\n",
    "    r = requests.get(link)\n",
    "    r.encoding = 'UTF-8'\n",
    "    return BeautifulSoup(r.text,'lxml')"
   ]
  },
  {
   "cell_type": "code",
   "execution_count": 6,
   "metadata": {},
   "outputs": [
    {
     "data": {
      "text/plain": [
       "[<a href=\"/wiki/Nineteen_Eighty-Four\" title=\"Nineteen Eighty-Four\">1984</a>,\n",
       " <a href=\"#cite_ref-1\">^</a>]"
      ]
     },
     "execution_count": 6,
     "metadata": {},
     "output_type": "execute_result"
    }
   ],
   "source": [
    "def getAllLinks(link):\n",
    "    soup = getSoup(link)\n",
    "    tds = soup.findAll('ol')\n",
    "    return [td.find('li').find('a') for td in tds]\n",
    "\n",
    "links = getAllLinks('https://en.wikipedia.org/wiki/20th_Century%27s_Greatest_Hits:_100_English-Language_Books_of_Fiction')\n",
    "links"
   ]
  },
  {
   "cell_type": "markdown",
   "metadata": {},
   "source": [
    "Najdu jen odkaz "
   ]
  },
  {
   "cell_type": "code",
   "execution_count": 11,
   "metadata": {},
   "outputs": [
    {
     "data": {
      "text/plain": [
       "['/wiki/Nineteen_Eighty-Four', '#cite_ref-1']"
      ]
     },
     "execution_count": 11,
     "metadata": {},
     "output_type": "execute_result"
    }
   ],
   "source": [
    "def getAllLinks(link):\n",
    "    soup = getSoup(link)\n",
    "    tds = soup.findAll('ol')\n",
    "    return [td.find('li').find('a')['href'] for td in tds]\n",
    "\n",
    "links = getAllLinks('https://en.wikipedia.org/wiki/20th_Century%27s_Greatest_Hits:_100_English-Language_Books_of_Fiction')\n",
    "links"
   ]
  },
  {
   "cell_type": "code",
   "execution_count": 13,
   "metadata": {},
   "outputs": [],
   "source": [
    "def getSoup(link):\n",
    "    r = requests.get(link)\n",
    "    r.encoding = 'UTF-8'\n",
    "    return BeautifulSoup(r.text,'lxml')"
   ]
  },
  {
   "cell_type": "code",
   "execution_count": 21,
   "metadata": {},
   "outputs": [
    {
     "data": {
      "text/plain": [
       "['https://en.wikipedia.org/wiki/Nineteen_Eighty-Four',\n",
       " 'https://en.wikipedia.org/wiki/The_Ambassadors',\n",
       " 'https://en.wikipedia.org/wiki/An_American_Tragedy',\n",
       " 'https://en.wikipedia.org/wiki/Brave_New_World',\n",
       " 'https://en.wikipedia.org/wiki/Catch-22',\n",
       " 'https://en.wikipedia.org/wiki/The_Catcher_in_the_Rye',\n",
       " 'https://en.wikipedia.org/wiki/A_Clockwork_Orange_(novel)',\n",
       " 'https://en.wikipedia.org/wiki/The_Day_of_the_Locust',\n",
       " 'https://en.wikipedia.org/wiki/Finnegans_Wake',\n",
       " 'https://en.wikipedia.org/wiki/The_Grapes_of_Wrath',\n",
       " 'https://en.wikipedia.org/wiki/The_Great_Gatsby',\n",
       " 'https://en.wikipedia.org/wiki/Heart_of_Darkness',\n",
       " 'https://en.wikipedia.org/wiki/The_House_of_Mirth',\n",
       " 'https://en.wikipedia.org/wiki/Invisible_Man',\n",
       " 'https://en.wikipedia.org/wiki/Ironweed_(novel)',\n",
       " 'https://en.wikipedia.org/wiki/Lolita',\n",
       " 'https://en.wikipedia.org/wiki/Midnight%27s_Children',\n",
       " 'https://en.wikipedia.org/wiki/The_Naked_and_the_Dead',\n",
       " 'https://en.wikipedia.org/wiki/Native_Son',\n",
       " 'https://en.wikipedia.org/wiki/On_the_Road',\n",
       " 'https://en.wikipedia.org/wiki/Pale_Fire',\n",
       " 'https://en.wikipedia.org/wiki/A_Passage_to_India',\n",
       " 'https://en.wikipedia.org/wiki/A_Portrait_of_the_Artist_as_a_Young_Man',\n",
       " 'https://en.wikipedia.org/wiki/The_Sheltering_Sky',\n",
       " 'https://en.wikipedia.org/wiki/Slaughterhouse-Five',\n",
       " 'https://en.wikipedia.org/wiki/The_Sound_and_the_Fury',\n",
       " 'https://en.wikipedia.org/wiki/The_Sun_Also_Rises',\n",
       " 'https://en.wikipedia.org/wiki/To_the_Lighthouse',\n",
       " 'https://en.wikipedia.org/wiki/Tropic_of_Cancer_(novel)',\n",
       " 'https://en.wikipedia.org/wiki/Ulysses_(novel)',\n",
       " 'https://en.wikipedia.org/wiki/Under_the_Volcano',\n",
       " 'https://en.wikipedia.org/wiki/U.S.A._(trilogy)',\n",
       " 'https://en.wikipedia.org/wiki/Winesburg,_Ohio',\n",
       " 'https://en.wikipedia.org/wiki/Women_in_Love']"
      ]
     },
     "execution_count": 21,
     "metadata": {},
     "output_type": "execute_result"
    }
   ],
   "source": [
    "def getAllLinks(link):\n",
    "    soup = getSoup(link)\n",
    "    x = soup.find('ol')\n",
    "    tds =x.findAll('li')\n",
    "    return ['https://en.wikipedia.org' +td.find('a')['href'] for td in tds]\n",
    "\n",
    "links = getAllLinks('https://en.wikipedia.org/wiki/20th_Century%27s_Greatest_Hits:_100_English-Language_Books_of_Fiction')\n",
    "links"
   ]
  },
  {
   "cell_type": "code",
   "execution_count": null,
   "metadata": {},
   "outputs": [],
   "source": [
    "2. Otevru link a najdu tabulku se "
   ]
  },
  {
   "cell_type": "code",
   "execution_count": null,
   "metadata": {},
   "outputs": [],
   "source": []
  }
 ],
 "metadata": {
  "kernelspec": {
   "display_name": "Python 3",
   "language": "python",
   "name": "python3"
  },
  "language_info": {
   "codemirror_mode": {
    "name": "ipython",
    "version": 3
   },
   "file_extension": ".py",
   "mimetype": "text/x-python",
   "name": "python",
   "nbconvert_exporter": "python",
   "pygments_lexer": "ipython3",
   "version": "3.7.4"
  }
 },
 "nbformat": 4,
 "nbformat_minor": 2
}
